{
 "cells": [
  {
   "cell_type": "code",
   "execution_count": 20,
   "metadata": {},
   "outputs": [],
   "source": [
    "import os\n",
    "# os.chdir('C:\\\\Users\\\\Patrick McMahon\\\\Desktop\\\\Projects\\\\Extra\\\\misc\\\\oot_local\\\\_data_analysis')\n",
    "import pandas as pd\n",
    "import zootr_analyzer"
   ]
  },
  {
   "cell_type": "code",
   "execution_count": 21,
   "metadata": {},
   "outputs": [
    {
     "ename": "AttributeError",
     "evalue": "module 'zootr_analyzer' has no attribute 'seed_list'",
     "output_type": "error",
     "traceback": [
      "\u001b[1;31m---------------------------------------------------------------------------\u001b[0m",
      "\u001b[1;31mAttributeError\u001b[0m                            Traceback (most recent call last)",
      "\u001b[1;32m<ipython-input-21-83557ee299ed>\u001b[0m in \u001b[0;36m<module>\u001b[1;34m\u001b[0m\n\u001b[0;32m      2\u001b[0m \u001b[0mdf_req\u001b[0m \u001b[1;33m=\u001b[0m \u001b[0mzootr_analyzer\u001b[0m\u001b[1;33m.\u001b[0m\u001b[0mdf_req\u001b[0m\u001b[1;33m.\u001b[0m\u001b[0mcopy\u001b[0m\u001b[1;33m(\u001b[0m\u001b[1;33m)\u001b[0m\u001b[1;33m\u001b[0m\u001b[0m\n\u001b[0;32m      3\u001b[0m \u001b[0mdf_play\u001b[0m \u001b[1;33m=\u001b[0m \u001b[0mzootr_analyzer\u001b[0m\u001b[1;33m.\u001b[0m\u001b[0mdf_play\u001b[0m\u001b[1;33m.\u001b[0m\u001b[0mcopy\u001b[0m\u001b[1;33m(\u001b[0m\u001b[1;33m)\u001b[0m\u001b[1;33m\u001b[0m\u001b[0m\n\u001b[1;32m----> 4\u001b[1;33m \u001b[0mseed_list\u001b[0m \u001b[1;33m=\u001b[0m \u001b[0mzootr_analyzer\u001b[0m\u001b[1;33m.\u001b[0m\u001b[0mseed_list\u001b[0m\u001b[1;33m\u001b[0m\u001b[0m\n\u001b[0m",
      "\u001b[1;31mAttributeError\u001b[0m: module 'zootr_analyzer' has no attribute 'seed_list'"
     ]
    }
   ],
   "source": [
    "df_dist = zootr_analyzer.df_dist.copy()\n",
    "df_req = zootr_analyzer.df_req.copy()\n",
    "df_play = zootr_analyzer.df_play.copy()\n",
    "seed_list = zootr_analyzer.seed_list"
   ]
  },
  {
   "cell_type": "code",
   "execution_count": null,
   "metadata": {},
   "outputs": [],
   "source": []
  }
 ],
 "metadata": {
  "kernelspec": {
   "display_name": "Python 3",
   "language": "python",
   "name": "python3"
  },
  "language_info": {
   "codemirror_mode": {
    "name": "ipython",
    "version": 3
   },
   "file_extension": ".py",
   "mimetype": "text/x-python",
   "name": "python",
   "nbconvert_exporter": "python",
   "pygments_lexer": "ipython3",
   "version": "3.7.0"
  }
 },
 "nbformat": 4,
 "nbformat_minor": 2
}
